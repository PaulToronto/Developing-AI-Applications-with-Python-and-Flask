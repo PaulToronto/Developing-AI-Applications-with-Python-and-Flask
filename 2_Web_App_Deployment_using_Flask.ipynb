{
  "nbformat": 4,
  "nbformat_minor": 0,
  "metadata": {
    "colab": {
      "provenance": [],
      "toc_visible": true,
      "authorship_tag": "ABX9TyPgSRfyyVY6nnbhIDvpiNbR",
      "include_colab_link": true
    },
    "kernelspec": {
      "name": "python3",
      "display_name": "Python 3"
    },
    "language_info": {
      "name": "python"
    }
  },
  "cells": [
    {
      "cell_type": "markdown",
      "metadata": {
        "id": "view-in-github",
        "colab_type": "text"
      },
      "source": [
        "<a href=\"https://colab.research.google.com/github/PaulToronto/Developing-AI-Applications-with-Python-and-Flask/blob/main/2_Web_App_Deployment_using_Flask.ipynb\" target=\"_parent\"><img src=\"https://colab.research.google.com/assets/colab-badge.svg\" alt=\"Open In Colab\"/></a>"
      ]
    },
    {
      "cell_type": "markdown",
      "source": [
        "# 2 - Web App Deployment using Flask"
      ],
      "metadata": {
        "id": "3c4ZefGYIEpy"
      }
    },
    {
      "cell_type": "markdown",
      "source": [
        "## Python Libraries and Frameworks for Application Development"
      ],
      "metadata": {
        "id": "IWqIKMsMIMJG"
      }
    },
    {
      "cell_type": "markdown",
      "source": [
        "### Python Libraries\n",
        "\n",
        "- Pyton libraries are like toolkits\n",
        "- Expedites programming\n",
        "- NumPy: mathematical calculates\n",
        "- Pandas: data manipulation and analysis\n",
        "- Matplotlib: data visualization"
      ],
      "metadata": {
        "id": "tB5-iot9JY-n"
      }
    },
    {
      "cell_type": "markdown",
      "source": [
        "### Python Libraries for App Dev\n",
        "\n",
        "- simplify the process of sending HTTP requests\n",
        "- BeautifulSup: web scraping\n",
        "- SQLAlchemy: a SQL toolkit\n",
        "- PyTest: a testing framework"
      ],
      "metadata": {
        "id": "r9F0p6WxJ9JW"
      }
    },
    {
      "cell_type": "markdown",
      "source": [
        "### What is a Framework?\n",
        "\n",
        "- Predefined structures for application development\n",
        "- Provides a set of guidelines for application development\n",
        "- Examples:\n",
        "    - Django\n",
        "    - Flask\n",
        "    - Web2Py"
      ],
      "metadata": {
        "id": "XarBe_TmKfIT"
      }
    },
    {
      "cell_type": "markdown",
      "source": [
        "### Benefits of using a Framework\n",
        "\n",
        "- Eases the development process\n",
        "- Simplifies the debugging process\n",
        "- Enables more functionality with less code\n",
        "    - Prebuilt libraries and modules\n",
        "- Improves database management efficiency\n",
        "- Helps enforce security\n"
      ],
      "metadata": {
        "id": "CfyiW_SyK3jR"
      }
    },
    {
      "cell_type": "markdown",
      "source": [
        "### Difference between Frameworks and Libraries\n",
        "\n",
        "- Code calls libaries\n",
        "- Frameworks call code\n",
        "    - Framework can contain libraires"
      ],
      "metadata": {
        "id": "5JdDPEt7Ll_O"
      }
    },
    {
      "cell_type": "markdown",
      "source": [
        "## Introduction to Flask"
      ],
      "metadata": {
        "id": "TUWhfxGtMFQM"
      }
    },
    {
      "cell_type": "markdown",
      "source": [
        "### Flask Framework\n",
        "\n",
        "- Flask is a micro web framework\n",
        "    - for creating web applications\n",
        "    - not opinionated like some larger frameworks\n",
        "    - does not bind user to a specific set of tools\n",
        "- Created in 2004 by Armin Ronacher as an April Fool's joke\n",
        "- Comes with a minimal set of dependencies\n",
        "- Community-maintained extensions are available"
      ],
      "metadata": {
        "id": "YEZIXv0wNgsn"
      }
    },
    {
      "cell_type": "markdown",
      "source": [
        "### Main Features of Flask\n",
        "\n",
        "- Built-in web server that runs applications in development mode\n",
        "- Has a debugger\n",
        "- Uses standard Python logging\n",
        "- Has built-in unit testing\n",
        "- Enables request and response classes\n",
        "\n",
        "#### Additional features\n",
        "\n",
        "- Provides static asset support\n",
        "    - assets like CSS files, images, JavaScript files\n",
        "    - provides flags to load static files in the templates\n",
        "- Provides dynamic templates\n",
        "- Supports routing:\n",
        "    - Supports Dynamic URLs (useful for RESTful services)\n",
        "    - HTTP methods\n",
        "    - Redirecting\n",
        "- Enables error handling\n",
        "- Support sessions (user session management)\n"
      ],
      "metadata": {
        "id": "1018pBDeOtsI"
      }
    },
    {
      "cell_type": "markdown",
      "source": [
        "### Popular Extensions\n",
        "\n",
        "- Flask-SQLAlchemy\n",
        "- Flask-Mail\n",
        "- Flask-Admin\n",
        "- Flask-Uploads\n",
        "- Flask-CORS\n",
        "- Flask-Migrate\n",
        "- Flask-User (user authentication, authorization)\n",
        "- Marshmallow\n",
        "- Celery"
      ],
      "metadata": {
        "id": "Pix-H6ovVmhb"
      }
    },
    {
      "cell_type": "markdown",
      "source": [
        "### Installation\n",
        "\n",
        "- Install Flask in the pip package\n",
        "- Built-in dependencies:\n",
        "    - Werkzeug: Implements server\n",
        "    - Jinja: Template language\n",
        "    - MarkupSafe: Provides security features in templates\n",
        "    - ItsDangerous: Signing library for session cookies\n",
        "    - Click: Helps write command line interfaces for Flask"
      ],
      "metadata": {
        "id": "-N5dbRb8WcBe"
      }
    },
    {
      "cell_type": "markdown",
      "source": [
        "### Flask vs. Django\n",
        "\n",
        "- Flask is a minimal lightweight framework\n",
        "    - Django is a full-stack framework\n",
        "- Flask includes basic dependencies and is extensible\n",
        "    - Django includes everthing to create a full-stack application\n",
        "- Flask is flexible and lets the developer make most decisions\n",
        "    - Django is opinionated and makes most decisions"
      ],
      "metadata": {
        "id": "rZasp8uNXXws"
      }
    },
    {
      "cell_type": "markdown",
      "source": [
        "## Flask - Basic Applications and Routes\n",
        "\n",
        "https://tinyurl.com/44rt927v"
      ],
      "metadata": {
        "id": "Z7YdOIHfYW19"
      }
    },
    {
      "cell_type": "markdown",
      "source": [
        "### Creating a Flask Application\n",
        "\n",
        "- Install Flask\n",
        "- Create the main server file: `app.py`\n",
        "\n",
        "```python\n",
        "from flask import Flask\n",
        "app = Flask(__name__)\n",
        "```"
      ],
      "metadata": {
        "id": "tceOQENHZbr8"
      }
    },
    {
      "cell_type": "markdown",
      "source": [
        "### Adding Routes\n",
        "\n",
        "- You want to return a message to the client when they call your server without adding a path\n",
        "- You need to use the `@app` decorator to define the method\n",
        "    - The decorator take the URL path as an argument\n",
        "    - Return HTML in the method\n",
        "\n",
        "```python\n",
        "from flask import Flask\n",
        "app = Flask(__name__)\n",
        "\n",
        "@app.route('/')\n",
        "def hello_world():\n",
        "    return '<b>My first Flask application in action!</b>'\n",
        "\n",
        "```"
      ],
      "metadata": {
        "id": "ripreoBffTMc"
      }
    },
    {
      "cell_type": "markdown",
      "source": [
        "### Running Flask\n",
        "\n",
        "- Export setting\n",
        "@ 2:03"
      ],
      "metadata": {
        "id": "M9THkKTzgykF"
      }
    }
  ]
}