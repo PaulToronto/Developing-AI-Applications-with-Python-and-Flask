{
  "nbformat": 4,
  "nbformat_minor": 0,
  "metadata": {
    "colab": {
      "provenance": [],
      "toc_visible": true,
      "authorship_tag": "ABX9TyNyktFOH39D0a8XxSYzULne",
      "include_colab_link": true
    },
    "kernelspec": {
      "name": "python3",
      "display_name": "Python 3"
    },
    "language_info": {
      "name": "python"
    }
  },
  "cells": [
    {
      "cell_type": "markdown",
      "metadata": {
        "id": "view-in-github",
        "colab_type": "text"
      },
      "source": [
        "<a href=\"https://colab.research.google.com/github/PaulToronto/Developing-AI-Applications-with-Python-and-Flask/blob/main/1_Python_Coding_Practices_and_Packaging_Concepts.ipynb\" target=\"_parent\"><img src=\"https://colab.research.google.com/assets/colab-badge.svg\" alt=\"Open In Colab\"/></a>"
      ]
    },
    {
      "cell_type": "markdown",
      "source": [
        "# 1 - Python Coding Practices and Packaging Concepts"
      ],
      "metadata": {
        "id": "fhO7MUjX0oGa"
      }
    },
    {
      "cell_type": "markdown",
      "source": [
        "## Application Development Lifecycle"
      ],
      "metadata": {
        "id": "DBN4XPc-0s5p"
      }
    },
    {
      "cell_type": "markdown",
      "source": [
        "### 7 Phases\n",
        "\n",
        "1. Requirement gathering\n",
        "    - User requirements\n",
        "    - Business requirements\n",
        "    - Technical requirements\n",
        "    - Constraints\n",
        "2. Analysis\n",
        "    - Analyse the requirements\n",
        "3. Design\n",
        "    - Design the complete solution\n",
        "4. Code and test\n",
        "    - Should already have design documents from the Analysis and Design phases\n",
        "    - Coding\n",
        "    - Testing\n",
        "    - Revision\n",
        "    - Result: tested programs\n",
        "    - Types of testing\n",
        "        - Unit testing\n",
        "5. User and system testing\n",
        "    - Verify functionality from a user's point of view\n",
        "    - System level: Integration and performance testing\n",
        "    - End result: Final tested programs\n",
        "6. Production\n",
        "    - End users can access it and use it\n",
        "    - Must remain in a steady state during the production phase\n",
        "        - Not always possible, so changes must be tightly controlled and tested\n",
        "7. Maintenance\n",
        "    - Upgrades\n",
        "    - New features\n",
        "    - Fix issues"
      ],
      "metadata": {
        "id": "EMXV9cGs2igv"
      }
    },
    {
      "cell_type": "markdown",
      "source": [
        "### Why maintaining multiple files is a best practice\n",
        "\n",
        "- Requirements for functionalities vary\n",
        "- Code each functionality in a separate file\n",
        "    - Makes code maintenance efficient and easy\n",
        "    - Helps when new funcionality is added"
      ],
      "metadata": {
        "id": "g7qE1Lej5Dbl"
      }
    },
    {
      "cell_type": "markdown",
      "source": [
        "## Introduction to Web Applications and APIs"
      ],
      "metadata": {
        "id": "w5MaOq3T5_gn"
      }
    },
    {
      "cell_type": "markdown",
      "source": [
        "### What is a web app?\n",
        "\n",
        "- A web app is a program **stored on a remote server** and **delivered over the internet**\n",
        "- User interacts with the app using a browser\n",
        "- Components of a web app:\n",
        "    - Client executes the app for the user\n",
        "    - 3 components:\n",
        "        1. Web server: to manage raised requests\n",
        "        2. App server: to execute the requested task\n",
        "        3. Database: to store information needed to complete the task\n",
        "- Front End:\n",
        "    - JavaScript\n",
        "    - HTML\n",
        "    - CSS\n",
        "- Back End:\n",
        "    - Python\n",
        "    - Java\n",
        "    - Ruby"
      ],
      "metadata": {
        "id": "jegEPFuC6S-X"
      }
    },
    {
      "cell_type": "markdown",
      "source": [
        "### What is an API\n",
        "\n",
        "- Software component that enables apps to communicate\n",
        "- Features:\n",
        "    - Increased flexibility\n",
        "    - Standardized rules and functions"
      ],
      "metadata": {
        "id": "WvbpPHgw7zE4"
      }
    },
    {
      "cell_type": "markdown",
      "source": [
        "### API Architectures\n",
        "\n",
        "- Representational State Transfer (REST)\n",
        "- Simple Object Access Protocol (SOAP)"
      ],
      "metadata": {
        "id": "1sed_DWx8McS"
      }
    },
    {
      "cell_type": "markdown",
      "source": [
        "### Advantages of APIs\n",
        "\n",
        "- Increased connectivitiy\n",
        "- Supports CRUD actions (Create - Read - Update - Delete)\n",
        "- Works with PUT, POST, DELETE and GET (HTTP verbs)\n",
        "- Customizable"
      ],
      "metadata": {
        "id": "FtA0uMN68oHe"
      }
    },
    {
      "cell_type": "markdown",
      "source": [
        "### APIs vs web apps\n",
        "\n",
        "- API: generic term given to apps that create a link between two parts of a system\n",
        "- Web app: a subset or form of API that communicate between the front end and back end\n",
        "- All web apps may be considered APIs, but not all APIs are web apps\n",
        "- API includes both \"online\" or web-based and \"offline\" apps"
      ],
      "metadata": {
        "id": "2exxhVIR9Gs2"
      }
    },
    {
      "cell_type": "markdown",
      "source": [
        "## Python Style Guide and Coding Practices"
      ],
      "metadata": {
        "id": "dLC972U7BLHW"
      }
    },
    {
      "cell_type": "markdown",
      "source": [
        "### Python conventions\n",
        "\n",
        "- PEP8 (Python Enhancement Proposal 8): https://peps.python.org/pep-0008/\n",
        "- Use spaces instead of tabs for indentation\n",
        "    - 4 spaces for every indenetation level\n",
        "- Use blank lines to separate functions and classes\n",
        "- Use spaces around operators and after commas\n",
        "- Use functions for blocks of code (for example, if else blocks)\n",
        "- For names of functions and files: lowercase with underscores - `my_file`, `my_function`\n",
        "- For names of packages: lowercase but underscores are discouraged - `mypackage`\n",
        "- For names of classes: use CamelCase - `MyClass`\n",
        "- For names of constants: Capitalize all letters, separate words with underscores\n"
      ],
      "metadata": {
        "id": "EtHMlpcVDk-I"
      }
    },
    {
      "cell_type": "markdown",
      "source": [
        "### Static code analysis\n",
        "\n",
        "- **Static code analysis** is a method to evaluate code against a predefined style and standard without executing the code\n",
        "- helps find issues such as\n",
        "    - programming errors\n",
        "    - coding standard violations\n",
        "    - undefined values\n",
        "    - syntax violations\n",
        "    - security vulnerabilities\n",
        "- Can use **PyLint** library to check the compliance of your code with **PEP8** guidelines"
      ],
      "metadata": {
        "id": "WelYsNS4Gi3l"
      }
    },
    {
      "cell_type": "markdown",
      "source": [
        "### Static Code Analysis Resources:\n",
        "\n",
        "- PEP8: https://peps.python.org/pep-0008/\n",
        "- What is Static Code Analysis: https://in.mathworks.com/discovery/static-code-analysis.html\n",
        "- Static Program Analysis: https://en.wikipedia.org/wiki/Static_program_analysis\n",
        "- How Static Code Analysis Works: https://www.perforce.com/blog/qac/static-code-analysis-explained"
      ],
      "metadata": {
        "id": "ZDfZNR-9IDrX"
      }
    },
    {
      "cell_type": "markdown",
      "source": [
        "## Unit Testing\n",
        "\n",
        "mymodule.py\n",
        "```python\n",
        "def square(number):\n",
        "    return number ** 2\n",
        "    \n",
        "def doubler(number):\n",
        "    return number * 2\n",
        "```\n",
        "\n",
        "test_mymodule.py\n",
        "```python\n",
        "import unittest\n",
        "\n",
        "from mymodule import square, doubler\n",
        "class TestMyModule(unittest.TestCase):\n",
        "    def test_square(self):\n",
        "        self.assertEqual(square(2), 4)\n",
        "    \n",
        "    def test_double(self):\n",
        "        self.assertEqual(doubler(0), 0)\n",
        "\n",
        "if __name__ == '__main__':\n",
        "    unittest.main()\n",
        "```"
      ],
      "metadata": {
        "id": "W035HmFQrgC4"
      }
    },
    {
      "cell_type": "markdown",
      "source": [
        "Another example of test_mymodule.py\n",
        "\n",
        "```python\n",
        "# Import the 'unittest' module to create unit tests for your code.\n",
        "import unittest\n",
        "\n",
        "# Import the 'square' and 'double' functions from the 'mymodule' module.\n",
        "from mymodule import square, double\n",
        "\n",
        "# Define a test case class for testing the 'square' function.\n",
        "# A test case is a single unit of testing. It checks a specific aspect of the code's behavior.\n",
        "class TestSquare(unittest.TestCase):\n",
        "\n",
        "    # Define the first test method for the 'square' function.\n",
        "    # Test methods should start with the word 'test' so that the test runner recognizes them as test cases.\n",
        "    def test1(self):\n",
        "        # Check that calling 'square(2)' returns 4.\n",
        "        # This tests if the function correctly computes the square of 2.\n",
        "        self.assertEqual(square(2), 4) # test when 2 is given as input the output is 4.\n",
        "\n",
        "        # Check that calling 'square(3.0)' returns 9.0.\n",
        "        # This tests if the function correctly computes the square of 3.0, verifying that it handles float inputs.\n",
        "        self.assertEqual(square(3.0), 9.0)  # test when 3.0 is given as input the output is 9.0.\n",
        "\n",
        "        # Check that calling 'square(-3)' does not return -9.\n",
        "        # This tests that the function's output is not -9, verifying that the square of -3 should be 9.\n",
        "        self.assertNotEqual(square(-3), -9)  # test when -3 is given as input the output is not -9.\n",
        "\n",
        "# Define a test case class for testing the 'double' function.\n",
        "class TestDouble(unittest.TestCase):\n",
        "\n",
        "    # Define the first test method for the 'double' function.\n",
        "    def test1(self):\n",
        "        # Check that calling 'double(2)' returns 4.\n",
        "        # This tests if the function correctly computes double of 2.\n",
        "        self.assertEqual(double(2), 4) # test when 2 is given as input the output is 4.\n",
        "\n",
        "        # Check that calling 'double(-3.1)' returns -6.2.\n",
        "        # This tests if the function correctly computes double of -3.1, verifying that it handles negative float inputs.\n",
        "        self.assertEqual(double(-3.1), -6.2) # test when -3.1 is given as input the output is -6.2.\n",
        "\n",
        "        # Check that calling 'double(0)' returns 0.\n",
        "        # This tests if the function correctly computes double of 0, verifying that the function works for edge cases.\n",
        "        self.assertEqual(double(0), 0) # test when 0 is given as input the output is 0.\n",
        "        \n",
        "# Run all the test cases defined in the module when the script is executed.\n",
        "# This will automatically discover and run all the test cases defined in the module.\n",
        "unittest.main()\n",
        "\n",
        "```"
      ],
      "metadata": {
        "id": "c55Evo-hzq6K"
      }
    },
    {
      "cell_type": "markdown",
      "source": [
        "## Packaging"
      ],
      "metadata": {
        "id": "wV_TSvJj3GQO"
      }
    },
    {
      "cell_type": "markdown",
      "source": [
        "### Module vs. Package vs. Library"
      ],
      "metadata": {
        "id": "N4Rf3EWa3v4Z"
      }
    },
    {
      "cell_type": "markdown",
      "source": [
        "#### Module\n",
        "\n",
        "- A Python **module** is a `*.py` file containing Python definitions, statements, functions and classes\n",
        "- Can import a module to other scripts and notebooks"
      ],
      "metadata": {
        "id": "LXRVg7kt32YI"
      }
    },
    {
      "cell_type": "markdown",
      "source": [
        "#### Package\n",
        "\n",
        "- A **package** is a collection of python modulees in a directory that also contains an `__init__.py` file\n",
        "- When you import a module or package, the corresponding object created is always of type `module`\n",
        "    - The distinction between module and package is only at the file system level"
      ],
      "metadata": {
        "id": "EO30XwGi5glj"
      }
    },
    {
      "cell_type": "markdown",
      "source": [
        "#### Library\n",
        "\n",
        "- A **library** is a collection of packages or can be a single package\n",
        "- Examples: Numpy, PyTorch, Pandas\n",
        "- The terms package and library are often used interchangeably"
      ],
      "metadata": {
        "id": "xBqynngI67a6"
      }
    },
    {
      "cell_type": "markdown",
      "source": [
        "#### Creating a Package\n",
        "\n",
        "- First create a folder with the package name: `myproject`\n",
        "\n",
        "`module1.py`\n",
        "```python\n",
        "def square(number):\n",
        "    return number ** 2\n",
        "\n",
        "def doubler(number):\n",
        "    return number ** 2\n",
        "```\n",
        "\n",
        "`module2.py`\n",
        "```python\n",
        "def mean(numbers):\n",
        "    return sum(numbers) / len(numbers)\n",
        "```\n",
        "\n",
        "`__init__.py`\n",
        "```python\n",
        "from . import module1\n",
        "from . import module2\n",
        "```"
      ],
      "metadata": {
        "id": "jFwd5J0V7gvP"
      }
    },
    {
      "cell_type": "markdown",
      "source": [
        "#### Verify the package\n",
        "\n",
        "- Make sure the directory is the same as where the package is located\n",
        "\n",
        "```bash\n",
        "$ python\n",
        "```\n",
        "\n",
        "```python\n",
        ">>> import myproject\n",
        "```"
      ],
      "metadata": {
        "id": "QDSgJn6F9Cey"
      }
    }
  ]
}